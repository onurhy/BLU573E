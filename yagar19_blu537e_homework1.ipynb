{
 "cells": [
  {
   "cell_type": "code",
   "execution_count": 1,
   "metadata": {},
   "outputs": [],
   "source": [
    "import os\n",
    "import time\n",
    "\n",
    "def problem1(filename):\n",
    "\n",
    "    directory = filename + \"/\"          #Girilen parametreyi adres haline çevirmek için eğik çizgi eklenmiştir.\n",
    "    start_time = time.time()            #Bir dosya işlenmesi için başlangıç zamanı.\n",
    "    list_dir = os.listdir(directory)    #Adres içerisindeki dosyaların listesi.\n",
    "    number_files = len(list_dir)        #Dosya sayısı\n",
    "    for file in list_dir:               #Listedeki her bir dosyanın açılması gerekli bölümün okunması ve dosya adının değiştirilmesi.\n",
    "        with open(directory + file, 'r') as f:\n",
    "            os.rename(directory + file,directory + f.readline()[14:27] + \".pdbqt\")\n",
    "    end_time = time.time()\n",
    "    print(\"the number of files processed: \" + str(number_files)) #İşlenen dosya sayısı.\n",
    "    time_for_three_million_files = ((end_time - start_time) / number_files) * (3000000 / 3600) #Üç milyon dosyanın işlenmesi için gereken zamanın hesaplanması.\n",
    "    print(\"estimated hours to process three million files: %s\" % (time_for_three_million_files))  #Üç milyon dosyanın ne kadar zamanda işlenebileceğini gösterme."
   ]
  },
  {
   "cell_type": "code",
   "execution_count": 2,
   "metadata": {},
   "outputs": [
    {
     "name": "stdout",
     "output_type": "stream",
     "text": [
      "the number of files processed: 38\n",
      "estimated hours to process three million files: 0.03676142608910276\n"
     ]
    }
   ],
   "source": [
    "problem1(\"mol_files\")"
   ]
  },
  {
   "cell_type": "code",
   "execution_count": 3,
   "metadata": {},
   "outputs": [],
   "source": [
    "def problem2(item_numbers):\n",
    "    if  item_numbers <= 0:                             #Herhangi bir ürün alınmaması durumu.\n",
    "        print(\"total cost is $0\")\n",
    "    elif item_numbers > 0 and item_numbers < 10:       #10 üründen az alım yapılması durumu.\n",
    "        print(\"total cost is $\"+str(item_numbers*12))\n",
    "    elif item_numbers >= 10 and item_numbers <= 99:    #10-99 adet arasında ürün alım yapılması durumu\n",
    "        print(\"total cost is $\"+str(item_numbers*10))\n",
    "    elif item_numbers >= 100:                          #100 ürün veya daha fazla ürün alım yapılması durumu.\n",
    "        print(\"total cost is $\"+str(item_numbers*7))"
   ]
  },
  {
   "cell_type": "code",
   "execution_count": 4,
   "metadata": {},
   "outputs": [
    {
     "name": "stdout",
     "output_type": "stream",
     "text": [
      "total cost is $150\n"
     ]
    }
   ],
   "source": [
    "problem2(15)"
   ]
  },
  {
   "cell_type": "code",
   "execution_count": 5,
   "metadata": {},
   "outputs": [],
   "source": [
    "from random import seed, randint\n",
    "from statistics import mean\n",
    "\n",
    "def problem3():\n",
    "    seed(18)\n",
    "    X = [randint(1,100) for number in range(20)]                 #1 ile 100 arası 20 tane rastgele sayının X listesine dahil edilmesi.\n",
    "    print(\"the numbers in the list: \\n\"  + str(X))               #X listesinin gösterilmesi.\n",
    "    print(\"the sorted list: \\n\"  + str(sorted(X, reverse=True))) #X listesindeki sayıların büyükten küçüğe doğru sıralanması.\n",
    "    print(\"the average of the list: \" + str(mean(X)))            #X listesindeki sayıların ortalaması.\n",
    "\n",
    "    even_numbers = 0                                             # % ifadesi ile X listesindeki çift sayıların bulunması. \n",
    "    for number in X:\n",
    "        if number % 2 == 0:\n",
    "            even_numbers = even_numbers + 1\n",
    "    print(\"the number of even-numbers is: \" + str(even_numbers))\n",
    "\n",
    "\n",
    "    Y = set(X)                   #X listesindeki özgün(unique) değerlerin bulunması için listenin set formatına dönüştürülmesi.\n",
    "    Z = list(Y)                  #Y setindeki ifadeleri sıralayabilmek için seti, Z listesine çevirme.  \n",
    "    Z = sorted(Z,reverse = True) #Z listesindeki sayıları büyükten küçüğe doğru sıralama.\n",
    "    print(\"the largest element of the list: \" + str(Z[0]))   #Z listesinin en büyük elemanı, ilk elemanıdır.  \n",
    "    print(\"the smallest element of the list: \" + str(Z[-1])) #Z listesinin son elemanı, en küçük elemanıdır.\n",
    "    print(\"the second smallest element of the list: \" + str(Z[-2]))  \n",
    "    print(\"the second largest element of the list: \" + str(Z[1]))        \n",
    "      \n"
   ]
  },
  {
   "cell_type": "code",
   "execution_count": 6,
   "metadata": {
    "scrolled": true
   },
   "outputs": [
    {
     "name": "stdout",
     "output_type": "stream",
     "text": [
      "the numbers in the list: \n",
      "[24, 16, 85, 58, 43, 31, 26, 63, 81, 64, 24, 62, 38, 59, 34, 26, 33, 89, 16, 42]\n",
      "the sorted list: \n",
      "[89, 85, 81, 64, 63, 62, 59, 58, 43, 42, 38, 34, 33, 31, 26, 26, 24, 24, 16, 16]\n",
      "the average of the list: 45.7\n",
      "the number of even-numbers is: 12\n",
      "the largest element of the list: 89\n",
      "the smallest element of the list: 16\n",
      "the second smallest element of the list: 24\n",
      "the second largest element of the list: 85\n"
     ]
    }
   ],
   "source": [
    "problem3()"
   ]
  },
  {
   "cell_type": "code",
   "execution_count": 7,
   "metadata": {},
   "outputs": [],
   "source": [
    "from random import sample\n",
    "def problem4():\n",
    "    Z = []                           #Z boş listesinin oluşturulması.\n",
    "    Y = [0]*36                       #36 elemanlı Y listesinin oluşturulması.\n",
    "    X = sample(range(0, 35), 12)     #0-35 arasında 12 farklı sayının elde edilmesi.\n",
    "    for idx in X:                    #X'in elemanları Y'nin indeksleri olacak şekilde bu indekslere karşılık gelen Y değerlerinin 1'e eşitlenmesi.\n",
    "        Y[idx] = 1\n",
    "    for i in range(0,36,6):          #Y listesinin 6x6 boyutlarında olacak şekilde Z listesine dönüştürülmesi.\n",
    "        X = Y[i:i+6]\n",
    "        Z.append(X)\n",
    "        X = []\n",
    "    display(Z)"
   ]
  },
  {
   "cell_type": "code",
   "execution_count": 8,
   "metadata": {},
   "outputs": [
    {
     "data": {
      "text/plain": [
       "[[0, 0, 0, 0, 0, 0],\n",
       " [1, 1, 0, 0, 1, 1],\n",
       " [0, 0, 0, 1, 1, 0],\n",
       " [1, 0, 0, 1, 0, 1],\n",
       " [0, 0, 0, 0, 0, 1],\n",
       " [0, 0, 0, 1, 1, 0]]"
      ]
     },
     "metadata": {},
     "output_type": "display_data"
    }
   ],
   "source": [
    "problem4()"
   ]
  },
  {
   "cell_type": "code",
   "execution_count": 9,
   "metadata": {},
   "outputs": [],
   "source": [
    "from pathlib import Path\n",
    "import os\n",
    "\n",
    "def problem5(movies_file, users_file, ratings_file, merged_file):    \n",
    "\n",
    "\n",
    "    with open(movies_file, 'r', encoding = \"latin-1\") as moviesfile:  #movies_file dosyasının açılması.\n",
    "        movies = {}                       #Dictionary türünde movies değişkeninin tanımlanması.\n",
    "        for line in moviesfile:           #movies_file dosyasının içindeki her bir satırın tek tek okunması.\n",
    "            line = line.split(\"::\")       #Her bir satırın :: ifadesi özelinde bölünmesi.\n",
    "            if not line:                 #Satır boşsa devam edilmesi komutu.\n",
    "                continue\n",
    "            movies[line[0]] = line[1:]    #movies_file dosyasının bir dictionary türünde saklanması sağlanmıştır. Bu dictionary türünün keyleri movie_id, değerleri ise liste şeklinde film adı ve film türünden oluşmaktadır.    \n",
    "    \n",
    "    \n",
    "\n",
    "    userfile=open(users_file,encoding=\"latin-1\")     #user_file dosyasının açılması.\n",
    "    users=userfile.readlines()                       #user_file dosyasının satırlarının okunması ve users değişkeni içinde saklanması.\n",
    "    \n",
    "\n",
    "    ratingfile=open(ratings_file,encoding=\"latin-1\") #ratings_file dosyasının açılması.\n",
    "    ratings=ratingfile.readlines()                   #ratings_file dosyasının satırlarının okunması ve ratings değişkeni içinde saklanması.\n",
    "    \n",
    "    user_id = 1\n",
    "    for i,value in enumerate(ratings):                                                              #ratings değişkeninin içindeki satırların ve indeks değerlerinin alınması.  \n",
    "        if value.split(\"::\")[0] == str(user_id):                                                    #Satırdaki ilk ifadenin(user id), değişken olarak tanımlanan user_id ile karşılaştırılması.\n",
    "            ratings[i] = value.replace(\"\\n\", \"::\" + (users[user_id-1]).split(\"::\", maxsplit=1)[1])  #Eğer iki ifade eşleşiyorsa users listesinden gerekli değerin alınması ve ratings listesindeki karşılık gelen değerin devamına eklenmesi.\n",
    "        else:\n",
    "            ratings[i] = value.replace(\"\\n\", \"::\" + (users[user_id]).split(\"::\", maxsplit=1)[1])    #Eğer iki ifade eşleşmiyorsa users listesinin bir sonraki değerinin alınması ve ratings listesindeki karşılık gelen değerin devamına eklenmesi.\n",
    "            user_id +=1                                                                             #İki ifade eşleşmediği için user_id değişkeninin bir kere artırımı.\n",
    "                                                                                                    #Bu işlemler sonunda ratings listesinin içerisinde bulunan her bir satıra o kullanıcıya ait kullanıcı bilgileri de eklenmiş olur.\n",
    "    \n",
    "    \n",
    "    \n",
    "    for idx,values in enumerate(ratings):  #ratings listesinin içinde bulunan indeks ve değerlere erişim. Bir alt satırda ise rating listesindeki değerler movies listesi için indeks olarak kullanılmış ve movies listesinin içindeki değerler ratings listesine eklenmiştir.\n",
    "            ratings[idx] = values.replace(\"\\n\", \"::\" + movies[values.split(\"::\")[1]][0][:-7] + \"::\" + movies[values.split(\"::\")[1]][1][:-1] + \"::\" +  movies[values.split(\"::\")[1]][0][-5:-1]) \n",
    "    \n",
    "    \n",
    "    \n",
    "    path_mergedfile = os.path.join(str(Path(ratings_file).parent), merged_file) #Fonksiyonda kullanılan ratings_file dosyası ile aynı klasör içerisinde merged_file değişkeni şeklinde bir dosyanın açılması ve ratings listesinin içindeki değerlerinin bu dosyaya yazılması.\n",
    "    with open(path_mergedfile, 'w') as f:\n",
    "        for row in ratings:\n",
    "            f.write(\"%s\\n\" % row)\n"
   ]
  },
  {
   "cell_type": "code",
   "execution_count": 10,
   "metadata": {},
   "outputs": [],
   "source": [
    "problem5(\"movies.dat\", \"users.dat\", \"ratings.dat\", \"merged.dat\")"
   ]
  }
 ],
 "metadata": {
  "kernelspec": {
   "display_name": "Python 3",
   "language": "python",
   "name": "python3"
  },
  "language_info": {
   "codemirror_mode": {
    "name": "ipython",
    "version": 3
   },
   "file_extension": ".py",
   "mimetype": "text/x-python",
   "name": "python",
   "nbconvert_exporter": "python",
   "pygments_lexer": "ipython3",
   "version": "3.7.4"
  }
 },
 "nbformat": 4,
 "nbformat_minor": 2
}
